{
 "cells": [
  {
   "cell_type": "markdown",
   "metadata": {},
   "source": [
    "# Practice for Exam 1"
   ]
  },
  {
   "cell_type": "markdown",
   "metadata": {},
   "source": [
    "Do some of these problems using the Jupyter Notebook at Google. This will give you some practice for how that user interface behaves."
   ]
  },
  {
   "cell_type": "markdown",
   "metadata": {},
   "source": [
    "## Practice Question 1\n",
    "\n",
    "In the code cell below, write a function named _practice_ that takes one argument which you may assume is a number. Your function should return True if the number is greater than 50, False otherwise."
   ]
  },
  {
   "cell_type": "code",
   "execution_count": null,
   "metadata": {},
   "outputs": [],
   "source": []
  },
  {
   "cell_type": "markdown",
   "metadata": {},
   "source": [
    "## Practice Question 2\n",
    "\n",
    "In the code cell below, write a function named _subset_ that takes one argument which you may assume is a list. Your function should return a list containing every other member of the argument list, starting with element 0.\n",
    "\n",
    "Examples:\n",
    "```\n",
    "subset([9, 8, 7, 6, 5])                  should return [9, 7, 5]\n",
    "subset(['a', 2, 'b', 3, 'c', 4, 'd'])    should return ['a', 'b', 'c', 'd'']\n",
    "```"
   ]
  },
  {
   "cell_type": "code",
   "execution_count": null,
   "metadata": {},
   "outputs": [],
   "source": [
    "# Your code goes here\n",
    "\n"
   ]
  },
  {
   "cell_type": "markdown",
   "metadata": {},
   "source": [
    "## Practice Question 3\n",
    "\n",
    "Write a function named `number` that takes one parameter which you may assume is an integer greater than 0. Your function should print the whole numbers from 1 up to and including the argument. For example, if the argument is `3`, your function should print this:\n",
    "```\n",
    "1\n",
    "2\n",
    "3\n",
    "```"
   ]
  },
  {
   "cell_type": "code",
   "execution_count": null,
   "metadata": {},
   "outputs": [],
   "source": []
  },
  {
   "cell_type": "markdown",
   "metadata": {},
   "source": [
    "## Practice Question 4\n",
    "\n",
    "Write a function named `number2` that takes one parameter which you may assume is a list. Your function should print the list elements, numbered starting with 1, like this:\n",
    "```\n",
    "1  first element\n",
    "2  second element\n",
    "3  third element\n",
    "   . . .\n",
    "```"
   ]
  },
  {
   "cell_type": "code",
   "execution_count": null,
   "metadata": {},
   "outputs": [],
   "source": []
  },
  {
   "cell_type": "markdown",
   "metadata": {},
   "source": [
    "## Practice Question 5\n",
    "\n",
    "Write a function named `number3` that takes two parameters which you may assume are a list and an integer (in that order). You can give each argument any name you want, but let's refer to the second argument as `n`. Your function should print the list elements, numbered starting with 1, as your `number2` function did, but instead of printing _all_ list elements, it should only print `n` elements.\n",
    "\n",
    "For example, `number3(['a', 'b', 'c', 'd', 'e'], 3)` should print this:\n",
    "```\n",
    "1 a\n",
    "2 b\n",
    "3 c\n",
    "```\n",
    "\n",
    "You may assume that the second argument is not greater than the length of the list."
   ]
  },
  {
   "cell_type": "code",
   "execution_count": null,
   "metadata": {},
   "outputs": [],
   "source": []
  },
  {
   "cell_type": "markdown",
   "metadata": {},
   "source": [
    "## Practice Question 6\n",
    "\n",
    "Write a function named `number4` that is just like your `number3` function, _except_, don't assume that the second argument isn't greater than the length of the list. If that argument _is_ greater than the length of the list, just stop printing when you get to the last list element _without_ causing a Python error."
   ]
  },
  {
   "cell_type": "code",
   "execution_count": null,
   "metadata": {},
   "outputs": [],
   "source": []
  },
  {
   "cell_type": "markdown",
   "metadata": {},
   "source": [
    "## Practice Question 7\n",
    "\n",
    "Write a function named `pay` that computes the weekly pay for an employee.  Your function should require three parameters, in this order:  their hourly pay rate in dollars per hour (a float), the number of hours worked (a float), and a Boolean indicating whether they are eligible for overtime. If the Boolean is True, it means they are eligible overtime; if it's False, they are not.\n",
    "\n",
    "### Here are the rules for calculating pay:\n",
    "* If they are eligible for overtime, any hours over 40 are paid as overtime, that is, at 1.5 times their hourly rate; all hours up to 40 are paid at the usual hourly rate.\n",
    "* If they are not eligible for overtime, all hours are paid at their hourly rate."
   ]
  },
  {
   "cell_type": "code",
   "execution_count": null,
   "metadata": {},
   "outputs": [],
   "source": []
  },
  {
   "cell_type": "markdown",
   "metadata": {},
   "source": [
    "## Practice Question 8\n",
    "\n",
    "Write a function named `maximum` that requires one parameter which you may assume is a list of numbers. You may also assume that the list, when the function is called, will have at least one element and that all elements will be numbers greater than or equal to zero.\n",
    "\n",
    "Your function should return the maximum number in the argument list, _however_, your code must not call **any** Python functions."
   ]
  },
  {
   "cell_type": "code",
   "execution_count": null,
   "metadata": {},
   "outputs": [],
   "source": []
  },
  {
   "cell_type": "markdown",
   "metadata": {},
   "source": [
    "## Practice Question 9\n",
    "\n",
    "Write a function named `stock` that requires two parameters, a list of 2-tuples, and a string. (A 2-tuple is a tuple that contains 2 elements.) In the list of 2-tuples, every 2-tuple will be of this form...\n",
    "\n",
    "```\n",
    "(ticker_symbol, price)\n",
    "```\n",
    "\n",
    "...where `ticker-symbol` is a string representing a stock, e.g., `'AAPL'`, `'IBM'`, etc., and `price` is a float representing the current price of this stock. The second argument to the function will be a string representing some ticker symbol.\n",
    "\n",
    "Your function should return the price of the stock from the first argument whose ticker symbol is the same as the second argument. If no stock matches the second argument, your function should return -1."
   ]
  },
  {
   "cell_type": "code",
   "execution_count": 1,
   "metadata": {},
   "outputs": [],
   "source": []
  },
  {
   "cell_type": "markdown",
   "metadata": {},
   "source": [
    "## Practice Question 10\n",
    "\n",
    "Your company has decided to hold a customer appreciation event for your major customers. Each major customer will send some people to the event, and each customer will get its own table at the big party. Your colleagues in Marketing have dreamed up a fun game that everyone can play, but the game requires an even number of people at every table.\n",
    "\n",
    "Your colleague in Event Planning is trying to work out the seating arrangements and needs to know how many customers are sending an odd number of peolple to the event. If a customer is sending an odd number of people, their table will need an additional person to be seated there.\n",
    "\n",
    "You start writing a function named `odd` that requires one parameter which should be a list of numbers. Each list element represents how many people are coming to the event from some customer company. Your function will count how many numbers in the list are odd, and it will return this count.\n",
    "\n",
    "Unfortunately, your colleague in Event Planning has heard from Marketing, and it seems they're having a data quality problem. Some of the list elements might be strings. Your colleague says that, for the data elements that are strings, some of them might look like numbers, e.g., `'21'`. They ask you to treat those strings as numbers and include them in the count if the number is odd. For strings that don't look like numbers, e.g., `'Still waiting to hear'`, just ignore them.\n",
    "\n",
    "Write the `odd` function. Your code must use a `try/except` statement."
   ]
  },
  {
   "cell_type": "code",
   "execution_count": 6,
   "metadata": {},
   "outputs": [],
   "source": []
  }
 ],
 "metadata": {
  "kernelspec": {
   "display_name": "Python 3 (ipykernel)",
   "language": "python",
   "name": "python3"
  },
  "language_info": {
   "codemirror_mode": {
    "name": "ipython",
    "version": 3
   },
   "file_extension": ".py",
   "mimetype": "text/x-python",
   "name": "python",
   "nbconvert_exporter": "python",
   "pygments_lexer": "ipython3",
   "version": "3.12.1"
  }
 },
 "nbformat": 4,
 "nbformat_minor": 4
}
