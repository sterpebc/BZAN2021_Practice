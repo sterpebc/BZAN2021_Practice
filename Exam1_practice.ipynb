{
 "cells": [
  {
   "cell_type": "markdown",
   "metadata": {},
   "source": [
    "# Practice for Exam 1"
   ]
  },
  {
   "cell_type": "markdown",
   "metadata": {},
   "source": [
    "Experiment with this file to gain a feel for the Jupyter Notebook user interface at Google. These aren't real practice questions!"
   ]
  },
  {
   "cell_type": "markdown",
   "metadata": {},
   "source": [
    "## Practice Question 1\n",
    "\n",
    "In the code cell below, write a function named _practice_ that takes one argument which you may assume is a number. Your function should return True if the number is greater than 50, False otherwise."
   ]
  },
  {
   "cell_type": "code",
   "execution_count": null,
   "metadata": {},
   "outputs": [],
   "source": [
    "# Your code goes here\n",
    "\n"
   ]
  },
  {
   "cell_type": "markdown",
   "metadata": {},
   "source": [
    "## Practice Question 2\n",
    "\n",
    "In the code cell below, write a function named _subset_ that takes one argument which you may assume is a list. Your function should return a list containing every other member of the argument list, starting with element 0.\n",
    "\n",
    "Examples:\n",
    "```\n",
    "subset([9, 8, 7, 6, 5])                  should return [9, 7, 5]\n",
    "subset(['a', 2, 'b', 3, 'c', 4, 'd'])    should return ['a', 'b', 'c', 'd'']\n",
    "```"
   ]
  },
  {
   "cell_type": "code",
   "execution_count": null,
   "metadata": {},
   "outputs": [],
   "source": [
    "# Your code goes here\n",
    "\n"
   ]
  }
 ],
 "metadata": {
  "language_info": {
   "name": "python"
  }
 },
 "nbformat": 4,
 "nbformat_minor": 2
}
