{
 "cells": [
  {
   "cell_type": "markdown",
   "metadata": {},
   "source": [
    "# Practice for Exam 1"
   ]
  },
  {
   "cell_type": "markdown",
   "metadata": {},
   "source": [
    "Experiment with this file to gain a feel for the Jupyter Notebook user interface at Google. These aren't real practice questions!"
   ]
  },
  {
   "cell_type": "markdown",
   "metadata": {},
   "source": [
    "## Practice Question 1\n",
    "\n",
    "In the code cell below, write a function named _practice_ that takes one argument which you may assume is a number. Your function should return True if the number is greater than 50, False otherwise."
   ]
  },
  {
   "cell_type": "code",
   "execution_count": 1,
   "metadata": {},
   "outputs": [
    {
     "name": "stdout",
     "output_type": "stream",
     "text": [
      "hello, world\n"
     ]
    }
   ],
   "source": [
    "# Your code goes here\n",
    "\n",
    "print('hello, world')"
   ]
  },
  {
   "cell_type": "code",
   "execution_count": null,
   "metadata": {},
   "outputs": [],
   "source": []
  },
  {
   "cell_type": "markdown",
   "metadata": {},
   "source": [
    "## Practice Question 2\n",
    "\n",
    "In the code cell below, write a function named _subset_ that takes one argument which you may assume is a list. Your function should return a list containing every other member of the argument list, starting with element 0.\n",
    "\n",
    "Examples:\n",
    "```\n",
    "subset([9, 8, 7, 6, 5])                  should return [9, 7, 5]\n",
    "subset(['a', 2, 'b', 3, 'c', 4, 'd'])    should return ['a', 'b', 'c', 'd'']\n",
    "```"
   ]
  },
  {
   "cell_type": "code",
   "execution_count": null,
   "metadata": {},
   "outputs": [],
   "source": []
  },
  {
   "cell_type": "code",
   "execution_count": null,
   "metadata": {},
   "outputs": [],
   "source": [
    "# Your code goes here\n",
    "\n"
   ]
  },
  {
   "cell_type": "markdown",
   "metadata": {},
   "source": [
    "## Practice Question 3\n",
    "\n",
    "Write a function named `number` that takes one parameter which you may assume is an integer greater than 0. Your function should print the whole numbers from 1 up to and including the argument. For example, if the argument is `3`, your function should print this:\n",
    "```\n",
    "1\n",
    "2\n",
    "3\n",
    "```"
   ]
  },
  {
   "cell_type": "code",
   "execution_count": null,
   "metadata": {},
   "outputs": [],
   "source": []
  },
  {
   "cell_type": "markdown",
   "metadata": {},
   "source": [
    "## Practice Question 4\n",
    "\n",
    "Write a function named `number2` that takes one parameter which you may assume is a list. Your function should print the list elements, numbered starting with 1, like this:\n",
    "```\n",
    "1  first element\n",
    "2  second element\n",
    "3  third element\n",
    "   . . .\n",
    "```"
   ]
  },
  {
   "cell_type": "code",
   "execution_count": null,
   "metadata": {},
   "outputs": [],
   "source": []
  },
  {
   "cell_type": "markdown",
   "metadata": {},
   "source": [
    "## Practice Question 5\n",
    "\n",
    "Write a function named `number3` that takes two parameters which you may assume are a list and an integer (in that order). You can give each argument any name you want, but let's refer to the second argument as `n`. Your function should print the list elements, numbered starting with 1, as your `number2` function did, but instead of printing _all_ list elements, it should only print `n` elements.\n",
    "\n",
    "For example, `numnber3(['a', 'b', 'c', 'd', 'e'], 3)` should print this:\n",
    "```\n",
    "1 a\n",
    "2 b\n",
    "3 c\n",
    "```\n",
    "\n",
    "You may assume that the second argument is not greater than the length of the list."
   ]
  },
  {
   "cell_type": "code",
   "execution_count": null,
   "metadata": {},
   "outputs": [],
   "source": []
  },
  {
   "cell_type": "markdown",
   "metadata": {},
   "source": [
    "## Practice Question 6\n",
    "\n",
    "Write a function named `number4` that is just like your `number3` function, _except_, don't assume that the second argument isn't greater than the length of the list. If that argument _is_ greater than the length of the list, just stop printing when you get to the last list element _without_ causing a Python error."
   ]
  },
  {
   "cell_type": "code",
   "execution_count": null,
   "metadata": {},
   "outputs": [],
   "source": []
  }
 ],
 "metadata": {
  "kernelspec": {
   "display_name": "Python 3 (ipykernel)",
   "language": "python",
   "name": "python3"
  },
  "language_info": {
   "codemirror_mode": {
    "name": "ipython",
    "version": 3
   },
   "file_extension": ".py",
   "mimetype": "text/x-python",
   "name": "python",
   "nbconvert_exporter": "python",
   "pygments_lexer": "ipython3",
   "version": "3.10.10"
  }
 },
 "nbformat": 4,
 "nbformat_minor": 4
}
